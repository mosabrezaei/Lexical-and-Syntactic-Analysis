{
  "nbformat": 4,
  "nbformat_minor": 0,
  "metadata": {
    "colab": {
      "provenance": []
    },
    "kernelspec": {
      "name": "python3",
      "display_name": "Python 3"
    },
    "language_info": {
      "name": "python"
    }
  },
  "cells": [
    {
      "cell_type": "code",
      "execution_count": null,
      "metadata": {
        "id": "laI2i3HQi8Mn",
        "colab": {
          "base_uri": "https://localhost:8080/"
        },
        "outputId": "cebc3354-00d3-4b6b-ca0f-15e09b7b7626"
      },
      "outputs": [
        {
          "output_type": "stream",
          "name": "stdout",
          "text": [
            "time: 767 µs (started: 2024-03-29 20:32:46 +00:00)\n"
          ]
        }
      ],
      "source": [
        "# @title Global Variables\n",
        "# path to papers\n",
        "path_name = '/content/drive/MyDrive/Spoken vs Written/'\n",
        "add_sent_length = True"
      ]
    },
    {
      "cell_type": "code",
      "source": [
        "# @title Connection to Colab drive for data\n",
        "from google.colab import drive\n",
        "drive.mount('/content/drive/')"
      ],
      "metadata": {
        "colab": {
          "base_uri": "https://localhost:8080/"
        },
        "id": "Qrnz2lw7jKX7",
        "outputId": "89879205-aa81-4195-ae64-75763ce06d34"
      },
      "execution_count": null,
      "outputs": [
        {
          "output_type": "stream",
          "name": "stdout",
          "text": [
            "Drive already mounted at /content/drive/; to attempt to forcibly remount, call drive.mount(\"/content/drive/\", force_remount=True).\n",
            "time: 923 ms (started: 2024-03-29 20:32:47 +00:00)\n"
          ]
        }
      ]
    },
    {
      "cell_type": "code",
      "source": [
        "# @title Installations\n",
        "!pip install -U scikit-learn\n",
        "\n",
        "!pip install ipython-autotime\n",
        "%load_ext autotime\n",
        "\n",
        "!pip install -U imbalanced-learn"
      ],
      "metadata": {
        "colab": {
          "base_uri": "https://localhost:8080/"
        },
        "id": "mGJIHr7hjMcV",
        "outputId": "bf5e4dff-3bf9-438d-f94b-ee9ab23aa6ff"
      },
      "execution_count": null,
      "outputs": [
        {
          "output_type": "stream",
          "name": "stdout",
          "text": [
            "Requirement already satisfied: scikit-learn in /usr/local/lib/python3.10/dist-packages (1.4.1.post1)\n",
            "Requirement already satisfied: numpy<2.0,>=1.19.5 in /usr/local/lib/python3.10/dist-packages (from scikit-learn) (1.25.2)\n",
            "Requirement already satisfied: scipy>=1.6.0 in /usr/local/lib/python3.10/dist-packages (from scikit-learn) (1.11.4)\n",
            "Requirement already satisfied: joblib>=1.2.0 in /usr/local/lib/python3.10/dist-packages (from scikit-learn) (1.3.2)\n",
            "Requirement already satisfied: threadpoolctl>=2.0.0 in /usr/local/lib/python3.10/dist-packages (from scikit-learn) (3.4.0)\n",
            "Requirement already satisfied: ipython-autotime in /usr/local/lib/python3.10/dist-packages (0.3.2)\n",
            "Requirement already satisfied: ipython in /usr/local/lib/python3.10/dist-packages (from ipython-autotime) (7.34.0)\n",
            "Requirement already satisfied: setuptools>=18.5 in /usr/local/lib/python3.10/dist-packages (from ipython->ipython-autotime) (67.7.2)\n",
            "Requirement already satisfied: jedi>=0.16 in /usr/local/lib/python3.10/dist-packages (from ipython->ipython-autotime) (0.19.1)\n",
            "Requirement already satisfied: decorator in /usr/local/lib/python3.10/dist-packages (from ipython->ipython-autotime) (4.4.2)\n",
            "Requirement already satisfied: pickleshare in /usr/local/lib/python3.10/dist-packages (from ipython->ipython-autotime) (0.7.5)\n",
            "Requirement already satisfied: traitlets>=4.2 in /usr/local/lib/python3.10/dist-packages (from ipython->ipython-autotime) (5.7.1)\n",
            "Requirement already satisfied: prompt-toolkit!=3.0.0,!=3.0.1,<3.1.0,>=2.0.0 in /usr/local/lib/python3.10/dist-packages (from ipython->ipython-autotime) (3.0.43)\n",
            "Requirement already satisfied: pygments in /usr/local/lib/python3.10/dist-packages (from ipython->ipython-autotime) (2.16.1)\n",
            "Requirement already satisfied: backcall in /usr/local/lib/python3.10/dist-packages (from ipython->ipython-autotime) (0.2.0)\n",
            "Requirement already satisfied: matplotlib-inline in /usr/local/lib/python3.10/dist-packages (from ipython->ipython-autotime) (0.1.6)\n",
            "Requirement already satisfied: pexpect>4.3 in /usr/local/lib/python3.10/dist-packages (from ipython->ipython-autotime) (4.9.0)\n",
            "Requirement already satisfied: parso<0.9.0,>=0.8.3 in /usr/local/lib/python3.10/dist-packages (from jedi>=0.16->ipython->ipython-autotime) (0.8.3)\n",
            "Requirement already satisfied: ptyprocess>=0.5 in /usr/local/lib/python3.10/dist-packages (from pexpect>4.3->ipython->ipython-autotime) (0.7.0)\n",
            "Requirement already satisfied: wcwidth in /usr/local/lib/python3.10/dist-packages (from prompt-toolkit!=3.0.0,!=3.0.1,<3.1.0,>=2.0.0->ipython->ipython-autotime) (0.2.13)\n",
            "The autotime extension is already loaded. To reload it, use:\n",
            "  %reload_ext autotime\n",
            "Requirement already satisfied: imbalanced-learn in /usr/local/lib/python3.10/dist-packages (0.12.0)\n",
            "Requirement already satisfied: numpy>=1.17.3 in /usr/local/lib/python3.10/dist-packages (from imbalanced-learn) (1.25.2)\n",
            "Requirement already satisfied: scipy>=1.5.0 in /usr/local/lib/python3.10/dist-packages (from imbalanced-learn) (1.11.4)\n",
            "Requirement already satisfied: scikit-learn>=1.0.2 in /usr/local/lib/python3.10/dist-packages (from imbalanced-learn) (1.4.1.post1)\n",
            "Requirement already satisfied: joblib>=1.1.1 in /usr/local/lib/python3.10/dist-packages (from imbalanced-learn) (1.3.2)\n",
            "Requirement already satisfied: threadpoolctl>=2.0.0 in /usr/local/lib/python3.10/dist-packages (from imbalanced-learn) (3.4.0)\n",
            "time: 28 s (started: 2024-03-29 20:32:48 +00:00)\n"
          ]
        }
      ]
    },
    {
      "cell_type": "code",
      "source": [
        "# @title Imports\n",
        "# File Reading\n",
        "import os\n",
        "import pathlib\n",
        "import io\n",
        "\n",
        "# Data Analytics suite\n",
        "import numpy as np\n",
        "import pandas as pd\n",
        "\n",
        "# Plotting and Graphs\n",
        "import matplotlib.pyplot as plt\n",
        "import seaborn as sns\n",
        "\n",
        "# Math and Statistics\n",
        "import math\n",
        "import statistics\n",
        "from statistics import mean\n",
        "import scipy.stats as stats\n",
        "\n",
        "# Random Forest import\n",
        "from sklearn.ensemble import RandomForestClassifier\n",
        "from sklearn.model_selection import train_test_split\n",
        "from sklearn.tree import DecisionTreeClassifier\n",
        "\n",
        "from sklearn.model_selection import GridSearchCV\n",
        "\n",
        "# Random Undersampling\n",
        "from imblearn.under_sampling import RandomUnderSampler\n",
        "\n",
        "import nltk\n",
        "\n",
        "# import functions to help with analysis of confusion matrix\n",
        "from sklearn.metrics import classification_report\n",
        "from sklearn.metrics import confusion_matrix"
      ],
      "metadata": {
        "colab": {
          "base_uri": "https://localhost:8080/"
        },
        "id": "1KWzeq8cjewI",
        "outputId": "05715846-7e23-43fc-88f5-6e1059ea61c9"
      },
      "execution_count": null,
      "outputs": [
        {
          "output_type": "stream",
          "name": "stdout",
          "text": [
            "time: 1.02 ms (started: 2024-03-29 20:33:16 +00:00)\n"
          ]
        }
      ]
    },
    {
      "cell_type": "code",
      "source": [
        "nltk.download('punkt')"
      ],
      "metadata": {
        "colab": {
          "base_uri": "https://localhost:8080/"
        },
        "id": "Y0fgwC8CYfS3",
        "outputId": "d4110899-d266-4abb-9e60-e2f490162c6f"
      },
      "execution_count": null,
      "outputs": [
        {
          "output_type": "stream",
          "name": "stderr",
          "text": [
            "[nltk_data] Downloading package punkt to /root/nltk_data...\n",
            "[nltk_data]   Package punkt is already up-to-date!\n"
          ]
        },
        {
          "output_type": "execute_result",
          "data": {
            "text/plain": [
              "True"
            ]
          },
          "metadata": {},
          "execution_count": 181
        },
        {
          "output_type": "stream",
          "name": "stdout",
          "text": [
            "time: 6.07 ms (started: 2024-03-29 20:33:16 +00:00)\n"
          ]
        }
      ]
    },
    {
      "cell_type": "code",
      "source": [
        "# @title Model Creation\n",
        "param_grid = {'max_depth': [1,2,3,4,5,6,7,8,9,10,11,12,13,14,15]}\n",
        "\n",
        "# rf_100min_100max = RandomForestClassifier(max_depth=15, random_state=9)\n",
        "rf_512min_512max = RandomForestClassifier(max_depth=15, random_state=9)\n",
        "# grid_search = GridSearchCV(estimator = rf_512min_512max, param_grid=param_grid)\n",
        "# rf_100min_512max = RandomForestClassifier(max_depth=15, random_state=9)"
      ],
      "metadata": {
        "colab": {
          "base_uri": "https://localhost:8080/"
        },
        "id": "rMyUO7qNj7lp",
        "outputId": "3402bb94-a539-4da4-e974-8d32cfc8f5cb"
      },
      "execution_count": null,
      "outputs": [
        {
          "output_type": "stream",
          "name": "stdout",
          "text": [
            "time: 871 µs (started: 2024-03-29 20:33:16 +00:00)\n"
          ]
        }
      ]
    },
    {
      "cell_type": "code",
      "source": [
        "# @title Data Reading\n",
        "\n",
        "# df_100min_100max = pd.read_csv(path_name + 'speech_vs_written_min100_max100.csv')\n",
        "df_512min_512max = pd.read_csv(path_name + 'speech_vs_written_min512_max512.csv')\n",
        "# df_100min_512max = pd.read_csv(path_name + 'speech_vs_written_min100_max512.csv')"
      ],
      "metadata": {
        "colab": {
          "base_uri": "https://localhost:8080/"
        },
        "id": "x3Z2NBYIkSSO",
        "outputId": "45757ae5-effb-492f-fbcc-7d4ab7f253fe"
      },
      "execution_count": null,
      "outputs": [
        {
          "output_type": "stream",
          "name": "stdout",
          "text": [
            "time: 415 ms (started: 2024-03-29 20:33:16 +00:00)\n"
          ]
        }
      ]
    },
    {
      "cell_type": "code",
      "source": [
        "# @title Add Average Sentence Length and Average Word Length.\n",
        "def average_sentence_length(text):\n",
        "  total_sent_length = 0\n",
        "  num_sentences = 0\n",
        "\n",
        "  sent_text = nltk.sent_tokenize(text)\n",
        "  num_sentences = len(sent_text)\n",
        "\n",
        "  for sentence in sent_text:\n",
        "    total_sent_length += len(nltk.word_tokenize(sentence))\n",
        "    # total_sent_length += len(sentence.split())\n",
        "\n",
        "  return total_sent_length / num_sentences\n",
        "\n",
        "\n",
        "def average_word_length(text):\n",
        "  total_word_length = 0\n",
        "  num_words = 0\n",
        "\n",
        "  word_text = nltk.word_tokenize(text)\n",
        "  num_words = len(word_text)\n",
        "\n",
        "  for word in word_text:\n",
        "    total_word_length = len(word)\n",
        "\n",
        "  return total_word_length / num_words"
      ],
      "metadata": {
        "colab": {
          "base_uri": "https://localhost:8080/"
        },
        "id": "R5-8Iq-sWRQa",
        "outputId": "8c8cc5c6-e5ff-43dc-a002-47a56e8d1ffe"
      },
      "execution_count": null,
      "outputs": [
        {
          "output_type": "stream",
          "name": "stdout",
          "text": [
            "time: 1.12 ms (started: 2024-03-29 20:33:16 +00:00)\n"
          ]
        }
      ]
    },
    {
      "cell_type": "code",
      "source": [
        "if add_sent_length:\n",
        "  # df_100min_100max['avg_sent_len'] = [average_sentence_length(text) for text in df_100min_100max['text_chunk']]\n",
        "  df_512min_512max['avg_sent_len'] = [average_sentence_length(text) for text in df_512min_512max['text_chunk']]\n",
        "  # df_100min_512max['avg_sent_len'] = [average_sentence_length(text) for text in df_100min_512max['text_chunk']]\n",
        "\n",
        "  # df_100min_100max['avg_word_len'] = [average_word_length(text) for text in df_100min_100max['text_chunk']]\n",
        "  df_512min_512max['avg_word_len'] = [average_word_length(text) for text in df_512min_512max['text_chunk']]\n",
        "  # df_100min_512max['avg_word_len'] = [average_word_length(text) for text in df_100min_512max['text_chunk']]"
      ],
      "metadata": {
        "colab": {
          "base_uri": "https://localhost:8080/"
        },
        "id": "p9MYS-moXgE2",
        "outputId": "57628111-3060-4438-b3ce-639d2865c670"
      },
      "execution_count": null,
      "outputs": [
        {
          "output_type": "stream",
          "name": "stdout",
          "text": [
            "time: 1min 26s (started: 2024-03-29 20:33:16 +00:00)\n"
          ]
        }
      ]
    },
    {
      "cell_type": "code",
      "source": [
        "# sns.boxplot(x=df_100min_100max['type'], y=df_100min_100max['avg_sent_len']).set(title='Paper Types vs Automated Readability Index 100 min 100 max')"
      ],
      "metadata": {
        "id": "BDjQx5YRYCUl",
        "colab": {
          "base_uri": "https://localhost:8080/"
        },
        "outputId": "0b395c01-a085-407f-d99e-595a411eafaa"
      },
      "execution_count": null,
      "outputs": [
        {
          "output_type": "stream",
          "name": "stdout",
          "text": [
            "time: 398 µs (started: 2024-03-29 20:34:43 +00:00)\n"
          ]
        }
      ]
    },
    {
      "cell_type": "code",
      "source": [
        "# sns.boxplot(x=df_512min_512max['type'], y=df_512min_512max['avg_sent_len']).set(title='Paper Types vs Automated Readability Index 512 min 512 max')"
      ],
      "metadata": {
        "id": "CQP_mOccYFoY",
        "colab": {
          "base_uri": "https://localhost:8080/"
        },
        "outputId": "453f765b-c317-4f9e-a399-657abc650d84"
      },
      "execution_count": null,
      "outputs": [
        {
          "output_type": "stream",
          "name": "stdout",
          "text": [
            "time: 363 µs (started: 2024-03-29 20:34:43 +00:00)\n"
          ]
        }
      ]
    },
    {
      "cell_type": "code",
      "source": [
        "# sns.boxplot(x=df_100min_512max['type'], y=df_100min_512max['avg_sent_len']).set(title='Paper Types vs Automated Readability Index 512 min 512 max')"
      ],
      "metadata": {
        "id": "MslZT4DHYF2Y",
        "colab": {
          "base_uri": "https://localhost:8080/"
        },
        "outputId": "3a76e89e-964a-49f6-8121-d05bd9c69316"
      },
      "execution_count": null,
      "outputs": [
        {
          "output_type": "stream",
          "name": "stdout",
          "text": [
            "time: 392 µs (started: 2024-03-29 20:34:43 +00:00)\n"
          ]
        }
      ]
    },
    {
      "cell_type": "code",
      "source": [
        "# @title Feature Dropping\n",
        "drop_features = ['ari', 'coleman_liau', 'dale_chall', 'difficult_words', 'flesch',\n",
        "                 'fleschkincaid', 'gunning', 'hdd', 'herdanvm', 'linsear_write', 'simpsond',\n",
        "                 'smog', 'text_standard', 'yulek', 'dugast', 'herdan', 'mattr', 'msttr', 'mtld',\n",
        "                 'rttr', 'summer', 'ttr', 'yulei', 'maas']\n",
        "df_512min_512max = df_512min_512max.drop(columns=drop_features)"
      ],
      "metadata": {
        "colab": {
          "base_uri": "https://localhost:8080/"
        },
        "id": "TYjFMyNks3sg",
        "outputId": "ea34f896-5400-44e9-c2a0-9eba0bdaea56"
      },
      "execution_count": null,
      "outputs": [
        {
          "output_type": "stream",
          "name": "stdout",
          "text": [
            "time: 2.53 ms (started: 2024-03-29 20:34:43 +00:00)\n"
          ]
        }
      ]
    },
    {
      "cell_type": "code",
      "source": [
        "# Data and Labels Split\n",
        "# df_100min_100max_data = df_100min_100max[df_100min_100max.columns.difference(['text_chunk', 'type'])]\n",
        "# df_100min_100max_labels = df_100min_100max['type']\n",
        "\n",
        "df_512min_512max_data = df_512min_512max[df_512min_512max.columns.difference(['text_chunk', 'type'])]\n",
        "# df_512min_512max_labels = df_512min_512max['type']\n",
        "\n",
        "# df_100min_512max_data = df_100min_100max[df_100min_512max.columns.difference(['text_chunk', 'type'])]\n",
        "# df_100min_512max_labels = df_100min_512max['type']"
      ],
      "metadata": {
        "id": "QGe9_Pk_Qy7S",
        "colab": {
          "base_uri": "https://localhost:8080/"
        },
        "outputId": "ed3d7e35-98b2-4e86-c7ae-a385a64f7d71"
      },
      "execution_count": null,
      "outputs": [
        {
          "output_type": "stream",
          "name": "stdout",
          "text": [
            "time: 4.17 ms (started: 2024-03-29 20:34:43 +00:00)\n"
          ]
        }
      ]
    },
    {
      "cell_type": "code",
      "source": [
        "# print(len(df_100min_100max))"
      ],
      "metadata": {
        "id": "8qDuCtioSqnT",
        "colab": {
          "base_uri": "https://localhost:8080/"
        },
        "outputId": "1f4176fe-273a-4a60-cb6d-42a213ef794b"
      },
      "execution_count": null,
      "outputs": [
        {
          "output_type": "stream",
          "name": "stdout",
          "text": [
            "time: 371 µs (started: 2024-03-29 20:34:43 +00:00)\n"
          ]
        }
      ]
    },
    {
      "cell_type": "code",
      "source": [
        "# @title Removing Outliers\n",
        "\n",
        "# We do this by removing everything that is outside of 3 standard deviations\n",
        "# df_100min_100max = df_100min_100max[(np.abs(stats.zscore(df_100min_100max_data)) < 3).all(axis=1)]\n",
        "df_512min_512max = df_512min_512max[(np.abs(stats.zscore(df_512min_512max_data)) < 3).all(axis=1)]\n",
        "# df_100min_512max = df_100min_512max[(np.abs(stats.zscore(df_100min_512max_data)) < 3).all(axis=1)]"
      ],
      "metadata": {
        "id": "JHuh_Tq5LXDI",
        "colab": {
          "base_uri": "https://localhost:8080/"
        },
        "outputId": "9c2573cc-a5eb-48a1-d3db-d9072c420575"
      },
      "execution_count": null,
      "outputs": [
        {
          "output_type": "stream",
          "name": "stdout",
          "text": [
            "time: 9.55 ms (started: 2024-03-29 20:34:43 +00:00)\n"
          ]
        }
      ]
    },
    {
      "cell_type": "code",
      "source": [
        "# print(len(df_100min_100max))"
      ],
      "metadata": {
        "id": "zW3n078pSujx",
        "colab": {
          "base_uri": "https://localhost:8080/"
        },
        "outputId": "dfd0b8b5-8946-49ad-ef3a-f37c94170d1c"
      },
      "execution_count": null,
      "outputs": [
        {
          "output_type": "stream",
          "name": "stdout",
          "text": [
            "time: 699 µs (started: 2024-03-29 20:34:43 +00:00)\n"
          ]
        }
      ]
    },
    {
      "cell_type": "code",
      "source": [
        "# @title Random Under Sampling\n",
        "rus = RandomUnderSampler(random_state=9)\n",
        "# X_100min_100max, labels_100min_100max = rus.fit_resample(df_100min_100max[df_100min_100max.columns.difference(['text_chunk', 'type'])],\n",
        "#                      df_100min_100max['type'])\n",
        "X_512min_512max, labels_512min_512max = rus.fit_resample(df_512min_512max[df_512min_512max.columns.difference(['text_chunk', 'type'])],\n",
        "                     df_512min_512max['type'])\n",
        "# X_100min_512max, labels_100min_512max = rus.fit_resample(df_100min_512max[df_100min_512max.columns.difference(['text_chunk', 'type'])],\n",
        "#                      df_100min_512max['type'])"
      ],
      "metadata": {
        "id": "wBCAQMxdwUG-",
        "colab": {
          "base_uri": "https://localhost:8080/"
        },
        "outputId": "f873ea03-e76f-4e1a-bb34-620956d35d30"
      },
      "execution_count": null,
      "outputs": [
        {
          "output_type": "stream",
          "name": "stdout",
          "text": [
            "time: 27.2 ms (started: 2024-03-29 20:34:43 +00:00)\n"
          ]
        }
      ]
    },
    {
      "cell_type": "code",
      "source": [
        "# @title Train Test Split\n",
        "# X_train_100min_100max, X_test_100min_100max, y_train_100min_100max, y_test_100min_100max = train_test_split(X_100min_100max, labels_100min_100max, test_size=0.2, random_state=9)\n",
        "\n",
        "X_train_512min_512max, X_test_512min_512max, y_train_512min_512max, y_test_512min_512max = train_test_split(X_512min_512max, labels_512min_512max, test_size=0.2, random_state=9)\n",
        "\n",
        "# X_train_100min_512max, X_test_100min_512max, y_train_100min_512max, y_test_100min_512max = train_test_split(X_100min_512max, labels_100min_512max, test_size=0.2, random_state=9)"
      ],
      "metadata": {
        "id": "yOd6PvdioVkU",
        "colab": {
          "base_uri": "https://localhost:8080/"
        },
        "outputId": "8cbca8cf-a39d-4bff-cf74-bbe2d3add11d"
      },
      "execution_count": null,
      "outputs": [
        {
          "output_type": "stream",
          "name": "stdout",
          "text": [
            "time: 8.48 ms (started: 2024-03-29 20:34:43 +00:00)\n"
          ]
        }
      ]
    },
    {
      "cell_type": "code",
      "source": [
        "# sns.boxplot(x=df_100min_100max['type'], y=df_100min_100max['ari']).set(title='Paper Types vs Automated Readability Index 100 min 100 max')"
      ],
      "metadata": {
        "id": "vehrffPjS-tG",
        "colab": {
          "base_uri": "https://localhost:8080/"
        },
        "outputId": "e2d88c9a-6711-4728-82e2-9807cc84d0ff"
      },
      "execution_count": null,
      "outputs": [
        {
          "output_type": "stream",
          "name": "stdout",
          "text": [
            "time: 338 µs (started: 2024-03-29 20:34:43 +00:00)\n"
          ]
        }
      ]
    },
    {
      "cell_type": "code",
      "source": [
        "sns.boxplot(x=df_512min_512max['type'], y=df_512min_512max['avg_word_len']).set(title='Type vs Average Word Length')"
      ],
      "metadata": {
        "id": "dObsFjOSUEsx",
        "colab": {
          "base_uri": "https://localhost:8080/",
          "height": 762
        },
        "outputId": "1f0cb02a-be71-4356-c378-511890d4a910"
      },
      "execution_count": null,
      "outputs": [
        {
          "output_type": "execute_result",
          "data": {
            "text/plain": [
              "[Text(0.5, 1.0, 'Type vs Average Word Length')]"
            ]
          },
          "metadata": {},
          "execution_count": 197
        },
        {
          "output_type": "display_data",
          "data": {
            "text/plain": [
              "<Figure size 2200x800 with 1 Axes>"
            ],
            "image/png": "[encoded data removed]"
          },
          "metadata": {}
        },
        {
          "output_type": "stream",
          "name": "stdout",
          "text": [
            "time: 384 ms (started: 2024-03-29 20:34:43 +00:00)\n"
          ]
        }
      ]
    },
    {
      "cell_type": "code",
      "source": [
        "sns.boxplot(x=df_512min_512max['type'], y=df_512min_512max['avg_sent_len']).set(title='Type vs Average Sentence Length')"
      ],
      "metadata": {
        "colab": {
          "base_uri": "https://localhost:8080/",
          "height": 762
        },
        "id": "KAxRuIQOUccL",
        "outputId": "b73579f9-8bed-45c6-ff10-4f08d3886aaa"
      },
      "execution_count": null,
      "outputs": [
        {
          "output_type": "execute_result",
          "data": {
            "text/plain": [
              "[Text(0.5, 1.0, 'Type vs Average Sentence Length')]"
            ]
          },
          "metadata": {},
          "execution_count": 198
        },
        {
          "output_type": "display_data",
          "data": {
            "text/plain": [
              "<Figure size 2200x800 with 1 Axes>"
            ],
            "image/png": "[encoded data removed]"
          },
          "metadata": {}
        },
        {
          "output_type": "stream",
          "name": "stdout",
          "text": [
            "time: 582 ms (started: 2024-03-29 20:34:43 +00:00)\n"
          ]
        }
      ]
    },
    {
      "cell_type": "code",
      "source": [
        "# sns.boxplot(x=df_512min_512max['type'], y=df_512min_512max['maas']).set(title='Type vs Average Sentence Length')"
      ],
      "metadata": {
        "colab": {
          "base_uri": "https://localhost:8080/"
        },
        "id": "uU8-BjRhUjg9",
        "outputId": "3bac0454-d002-4cbe-adb2-0c0b321ea614"
      },
      "execution_count": null,
      "outputs": [
        {
          "output_type": "stream",
          "name": "stdout",
          "text": [
            "time: 358 µs (started: 2024-03-29 20:34:44 +00:00)\n"
          ]
        }
      ]
    },
    {
      "cell_type": "code",
      "source": [
        "# sns.boxplot(x=df_100min_512max['type'], y=df_100min_512max['ari']).set(title='Paper Types vs Automated Readability Index 512 min 512 max')"
      ],
      "metadata": {
        "id": "Q2G20-XaUkD-",
        "colab": {
          "base_uri": "https://localhost:8080/"
        },
        "outputId": "76bf975f-0381-4c97-9964-2b2f9fe3abbc"
      },
      "execution_count": null,
      "outputs": [
        {
          "output_type": "stream",
          "name": "stdout",
          "text": [
            "time: 521 µs (started: 2024-03-29 20:34:44 +00:00)\n"
          ]
        }
      ]
    },
    {
      "cell_type": "code",
      "source": [
        "# @title Model Fitting\n",
        "# rf_100min_100max.fit(X_train_100min_100max, y_train_100min_100max)\n",
        "# dt_100min_100max.fit(X_train_100min_100max, y_train_100min_100max)\n",
        "\n",
        "rf_512min_512max.fit(X_train_512min_512max, y_train_512min_512max)\n",
        "# grid_search.fit(X_train_512min_512max, y_train_512min_512max)\n",
        "# rf_100min_512max.fit(X_train_100min_512max, y_train_100min_512max)\n",
        "\n",
        "\n",
        "# rf_512min_512max.fit(df_512min_512max[df.columns.difference(['text_chunk', 'type'])],\n",
        "#                      df_512min_512max['type'])\n",
        "# rf_100min_512max.fit(df_100min_512max[df.columns.difference(['text_chunk', 'type'])],\n",
        "#                      df_100min_512max['type'])"
      ],
      "metadata": {
        "id": "uy8xTaX8krtQ",
        "colab": {
          "base_uri": "https://localhost:8080/",
          "height": 98
        },
        "outputId": "95d99814-60ba-433b-fdf5-8b9c9507249f"
      },
      "execution_count": null,
      "outputs": [
        {
          "output_type": "execute_result",
          "data": {
            "text/plain": [
              "RandomForestClassifier(max_depth=15, random_state=9)"
            ],
            "text/html": [
              "<style>#sk-container-id-4 {\n",
              "  /* Definition of color scheme common for light and dark mode */\n",
              "  --sklearn-color-text: black;\n",
              "  --sklearn-color-line: gray;\n",
              "  /* Definition of color scheme for unfitted estimators */\n",
              "  --sklearn-color-unfitted-level-0: #fff5e6;\n",
              "  --sklearn-color-unfitted-level-1: #f6e4d2;\n",
              "  --sklearn-color-unfitted-level-2: #ffe0b3;\n",
              "  --sklearn-color-unfitted-level-3: chocolate;\n",
              "  /* Definition of color scheme for fitted estimators */\n",
              "  --sklearn-color-fitted-level-0: #f0f8ff;\n",
              "  --sklearn-color-fitted-level-1: #d4ebff;\n",
              "  --sklearn-color-fitted-level-2: #b3dbfd;\n",
              "  --sklearn-color-fitted-level-3: cornflowerblue;\n",
              "\n",
              "  /* Specific color for light theme */\n",
              "  --sklearn-color-text-on-default-background: var(--sg-text-color, var(--theme-code-foreground, var(--jp-content-font-color1, black)));\n",
              "  --sklearn-color-background: var(--sg-background-color, var(--theme-background, var(--jp-layout-color0, white)));\n",
              "  --sklearn-color-border-box: var(--sg-text-color, var(--theme-code-foreground, var(--jp-content-font-color1, black)));\n",
              "  --sklearn-color-icon: #696969;\n",
              "\n",
              "  @media (prefers-color-scheme: dark) {\n",
              "    /* Redefinition of color scheme for dark theme */\n",
              "    --sklearn-color-text-on-default-background: var(--sg-text-color, var(--theme-code-foreground, var(--jp-content-font-color1, white)));\n",
              "    --sklearn-color-background: var(--sg-background-color, var(--theme-background, var(--jp-layout-color0, #111)));\n",
              "    --sklearn-color-border-box: var(--sg-text-color, var(--theme-code-foreground, var(--jp-content-font-color1, white)));\n",
              "    --sklearn-color-icon: #878787;\n",
              "  }\n",
              "}\n",
              "\n",
              "#sk-container-id-4 {\n",
              "  color: var(--sklearn-color-text);\n",
              "}\n",
              "\n",
              "#sk-container-id-4 pre {\n",
              "  padding: 0;\n",
              "}\n",
              "\n",
              "#sk-container-id-4 input.sk-hidden--visually {\n",
              "  border: 0;\n",
              "  clip: rect(1px 1px 1px 1px);\n",
              "  clip: rect(1px, 1px, 1px, 1px);\n",
              "  height: 1px;\n",
              "  margin: -1px;\n",
              "  overflow: hidden;\n",
              "  padding: 0;\n",
              "  position: absolute;\n",
              "  width: 1px;\n",
              "}\n",
              "\n",
              "#sk-container-id-4 div.sk-dashed-wrapped {\n",
              "  border: 1px dashed var(--sklearn-color-line);\n",
              "  margin: 0 0.4em 0.5em 0.4em;\n",
              "  box-sizing: border-box;\n",
              "  padding-bottom: 0.4em;\n",
              "  background-color: var(--sklearn-color-background);\n",
              "}\n",
              "\n",
              "#sk-container-id-4 div.sk-container {\n",
              "  /* jupyter's `normalize.less` sets `[hidden] { display: none; }`\n",
              "     but bootstrap.min.css set `[hidden] { display: none !important; }`\n",
              "     so we also need the `!important` here to be able to override the\n",
              "     default hidden behavior on the sphinx rendered scikit-learn.org.\n",
              "     See: https://github.com/scikit-learn/scikit-learn/issues/21755 */\n",
              "  display: inline-block !important;\n",
              "  position: relative;\n",
              "}\n",
              "\n",
              "#sk-container-id-4 div.sk-text-repr-fallback {\n",
              "  display: none;\n",
              "}\n",
              "\n",
              "div.sk-parallel-item,\n",
              "div.sk-serial,\n",
              "div.sk-item {\n",
              "  /* draw centered vertical line to link estimators */\n",
              "  background-image: linear-gradient(var(--sklearn-color-text-on-default-background), var(--sklearn-color-text-on-default-background));\n",
              "  background-size: 2px 100%;\n",
              "  background-repeat: no-repeat;\n",
              "  background-position: center center;\n",
              "}\n",
              "\n",
              "/* Parallel-specific style estimator block */\n",
              "\n",
              "#sk-container-id-4 div.sk-parallel-item::after {\n",
              "  content: \"\";\n",
              "  width: 100%;\n",
              "  border-bottom: 2px solid var(--sklearn-color-text-on-default-background);\n",
              "  flex-grow: 1;\n",
              "}\n",
              "\n",
              "#sk-container-id-4 div.sk-parallel {\n",
              "  display: flex;\n",
              "  align-items: stretch;\n",
              "  justify-content: center;\n",
              "  background-color: var(--sklearn-color-background);\n",
              "  position: relative;\n",
              "}\n",
              "\n",
              "#sk-container-id-4 div.sk-parallel-item {\n",
              "  display: flex;\n",
              "  flex-direction: column;\n",
              "}\n",
              "\n",
              "#sk-container-id-4 div.sk-parallel-item:first-child::after {\n",
              "  align-self: flex-end;\n",
              "  width: 50%;\n",
              "}\n",
              "\n",
              "#sk-container-id-4 div.sk-parallel-item:last-child::after {\n",
              "  align-self: flex-start;\n",
              "  width: 50%;\n",
              "}\n",
              "\n",
              "#sk-container-id-4 div.sk-parallel-item:only-child::after {\n",
              "  width: 0;\n",
              "}\n",
              "\n",
              "/* Serial-specific style estimator block */\n",
              "\n",
              "#sk-container-id-4 div.sk-serial {\n",
              "  display: flex;\n",
              "  flex-direction: column;\n",
              "  align-items: center;\n",
              "  background-color: var(--sklearn-color-background);\n",
              "  padding-right: 1em;\n",
              "  padding-left: 1em;\n",
              "}\n",
              "\n",
              "\n",
              "/* Toggleable style: style used for estimator/Pipeline/ColumnTransformer box that is\n",
              "clickable and can be expanded/collapsed.\n",
              "- Pipeline and ColumnTransformer use this feature and define the default style\n",
              "- Estimators will overwrite some part of the style using the `sk-estimator` class\n",
              "*/\n",
              "\n",
              "/* Pipeline and ColumnTransformer style (default) */\n",
              "\n",
              "#sk-container-id-4 div.sk-toggleable {\n",
              "  /* Default theme specific background. It is overwritten whether we have a\n",
              "  specific estimator or a Pipeline/ColumnTransformer */\n",
              "  background-color: var(--sklearn-color-background);\n",
              "}\n",
              "\n",
              "/* Toggleable label */\n",
              "#sk-container-id-4 label.sk-toggleable__label {\n",
              "  cursor: pointer;\n",
              "  display: block;\n",
              "  width: 100%;\n",
              "  margin-bottom: 0;\n",
              "  padding: 0.5em;\n",
              "  box-sizing: border-box;\n",
              "  text-align: center;\n",
              "}\n",
              "\n",
              "#sk-container-id-4 label.sk-toggleable__label-arrow:before {\n",
              "  /* Arrow on the left of the label */\n",
              "  content: \"▸\";\n",
              "  float: left;\n",
              "  margin-right: 0.25em;\n",
              "  color: var(--sklearn-color-icon);\n",
              "}\n",
              "\n",
              "#sk-container-id-4 label.sk-toggleable__label-arrow:hover:before {\n",
              "  color: var(--sklearn-color-text);\n",
              "}\n",
              "\n",
              "/* Toggleable content - dropdown */\n",
              "\n",
              "#sk-container-id-4 div.sk-toggleable__content {\n",
              "  max-height: 0;\n",
              "  max-width: 0;\n",
              "  overflow: hidden;\n",
              "  text-align: left;\n",
              "  /* unfitted */\n",
              "  background-color: var(--sklearn-color-unfitted-level-0);\n",
              "}\n",
              "\n",
              "#sk-container-id-4 div.sk-toggleable__content.fitted {\n",
              "  /* fitted */\n",
              "  background-color: var(--sklearn-color-fitted-level-0);\n",
              "}\n",
              "\n",
              "#sk-container-id-4 div.sk-toggleable__content pre {\n",
              "  margin: 0.2em;\n",
              "  border-radius: 0.25em;\n",
              "  color: var(--sklearn-color-text);\n",
              "  /* unfitted */\n",
              "  background-color: var(--sklearn-color-unfitted-level-0);\n",
              "}\n",
              "\n",
              "#sk-container-id-4 div.sk-toggleable__content.fitted pre {\n",
              "  /* unfitted */\n",
              "  background-color: var(--sklearn-color-fitted-level-0);\n",
              "}\n",
              "\n",
              "#sk-container-id-4 input.sk-toggleable__control:checked~div.sk-toggleable__content {\n",
              "  /* Expand drop-down */\n",
              "  max-height: 200px;\n",
              "  max-width: 100%;\n",
              "  overflow: auto;\n",
              "}\n",
              "\n",
              "#sk-container-id-4 input.sk-toggleable__control:checked~label.sk-toggleable__label-arrow:before {\n",
              "  content: \"▾\";\n",
              "}\n",
              "\n",
              "/* Pipeline/ColumnTransformer-specific style */\n",
              "\n",
              "#sk-container-id-4 div.sk-label input.sk-toggleable__control:checked~label.sk-toggleable__label {\n",
              "  color: var(--sklearn-color-text);\n",
              "  background-color: var(--sklearn-color-unfitted-level-2);\n",
              "}\n",
              "\n",
              "#sk-container-id-4 div.sk-label.fitted input.sk-toggleable__control:checked~label.sk-toggleable__label {\n",
              "  background-color: var(--sklearn-color-fitted-level-2);\n",
              "}\n",
              "\n",
              "/* Estimator-specific style */\n",
              "\n",
              "/* Colorize estimator box */\n",
              "#sk-container-id-4 div.sk-estimator input.sk-toggleable__control:checked~label.sk-toggleable__label {\n",
              "  /* unfitted */\n",
              "  background-color: var(--sklearn-color-unfitted-level-2);\n",
              "}\n",
              "\n",
              "#sk-container-id-4 div.sk-estimator.fitted input.sk-toggleable__control:checked~label.sk-toggleable__label {\n",
              "  /* fitted */\n",
              "  background-color: var(--sklearn-color-fitted-level-2);\n",
              "}\n",
              "\n",
              "#sk-container-id-4 div.sk-label label.sk-toggleable__label,\n",
              "#sk-container-id-4 div.sk-label label {\n",
              "  /* The background is the default theme color */\n",
              "  color: var(--sklearn-color-text-on-default-background);\n",
              "}\n",
              "\n",
              "/* On hover, darken the color of the background */\n",
              "#sk-container-id-4 div.sk-label:hover label.sk-toggleable__label {\n",
              "  color: var(--sklearn-color-text);\n",
              "  background-color: var(--sklearn-color-unfitted-level-2);\n",
              "}\n",
              "\n",
              "/* Label box, darken color on hover, fitted */\n",
              "#sk-container-id-4 div.sk-label.fitted:hover label.sk-toggleable__label.fitted {\n",
              "  color: var(--sklearn-color-text);\n",
              "  background-color: var(--sklearn-color-fitted-level-2);\n",
              "}\n",
              "\n",
              "/* Estimator label */\n",
              "\n",
              "#sk-container-id-4 div.sk-label label {\n",
              "  font-family: monospace;\n",
              "  font-weight: bold;\n",
              "  display: inline-block;\n",
              "  line-height: 1.2em;\n",
              "}\n",
              "\n",
              "#sk-container-id-4 div.sk-label-container {\n",
              "  text-align: center;\n",
              "}\n",
              "\n",
              "/* Estimator-specific */\n",
              "#sk-container-id-4 div.sk-estimator {\n",
              "  font-family: monospace;\n",
              "  border: 1px dotted var(--sklearn-color-border-box);\n",
              "  border-radius: 0.25em;\n",
              "  box-sizing: border-box;\n",
              "  margin-bottom: 0.5em;\n",
              "  /* unfitted */\n",
              "  background-color: var(--sklearn-color-unfitted-level-0);\n",
              "}\n",
              "\n",
              "#sk-container-id-4 div.sk-estimator.fitted {\n",
              "  /* fitted */\n",
              "  background-color: var(--sklearn-color-fitted-level-0);\n",
              "}\n",
              "\n",
              "/* on hover */\n",
              "#sk-container-id-4 div.sk-estimator:hover {\n",
              "  /* unfitted */\n",
              "  background-color: var(--sklearn-color-unfitted-level-2);\n",
              "}\n",
              "\n",
              "#sk-container-id-4 div.sk-estimator.fitted:hover {\n",
              "  /* fitted */\n",
              "  background-color: var(--sklearn-color-fitted-level-2);\n",
              "}\n",
              "\n",
              "/* Specification for estimator info (e.g. \"i\" and \"?\") */\n",
              "\n",
              "/* Common style for \"i\" and \"?\" */\n",
              "\n",
              ".sk-estimator-doc-link,\n",
              "a:link.sk-estimator-doc-link,\n",
              "a:visited.sk-estimator-doc-link {\n",
              "  float: right;\n",
              "  font-size: smaller;\n",
              "  line-height: 1em;\n",
              "  font-family: monospace;\n",
              "  background-color: var(--sklearn-color-background);\n",
              "  border-radius: 1em;\n",
              "  height: 1em;\n",
              "  width: 1em;\n",
              "  text-decoration: none !important;\n",
              "  margin-left: 1ex;\n",
              "  /* unfitted */\n",
              "  border: var(--sklearn-color-unfitted-level-1) 1pt solid;\n",
              "  color: var(--sklearn-color-unfitted-level-1);\n",
              "}\n",
              "\n",
              ".sk-estimator-doc-link.fitted,\n",
              "a:link.sk-estimator-doc-link.fitted,\n",
              "a:visited.sk-estimator-doc-link.fitted {\n",
              "  /* fitted */\n",
              "  border: var(--sklearn-color-fitted-level-1) 1pt solid;\n",
              "  color: var(--sklearn-color-fitted-level-1);\n",
              "}\n",
              "\n",
              "/* On hover */\n",
              "div.sk-estimator:hover .sk-estimator-doc-link:hover,\n",
              ".sk-estimator-doc-link:hover,\n",
              "div.sk-label-container:hover .sk-estimator-doc-link:hover,\n",
              ".sk-estimator-doc-link:hover {\n",
              "  /* unfitted */\n",
              "  background-color: var(--sklearn-color-unfitted-level-3);\n",
              "  color: var(--sklearn-color-background);\n",
              "  text-decoration: none;\n",
              "}\n",
              "\n",
              "div.sk-estimator.fitted:hover .sk-estimator-doc-link.fitted:hover,\n",
              ".sk-estimator-doc-link.fitted:hover,\n",
              "div.sk-label-container:hover .sk-estimator-doc-link.fitted:hover,\n",
              ".sk-estimator-doc-link.fitted:hover {\n",
              "  /* fitted */\n",
              "  background-color: var(--sklearn-color-fitted-level-3);\n",
              "  color: var(--sklearn-color-background);\n",
              "  text-decoration: none;\n",
              "}\n",
              "\n",
              "/* Span, style for the box shown on hovering the info icon */\n",
              ".sk-estimator-doc-link span {\n",
              "  display: none;\n",
              "  z-index: 9999;\n",
              "  position: relative;\n",
              "  font-weight: normal;\n",
              "  right: .2ex;\n",
              "  padding: .5ex;\n",
              "  margin: .5ex;\n",
              "  width: min-content;\n",
              "  min-width: 20ex;\n",
              "  max-width: 50ex;\n",
              "  color: var(--sklearn-color-text);\n",
              "  box-shadow: 2pt 2pt 4pt #999;\n",
              "  /* unfitted */\n",
              "  background: var(--sklearn-color-unfitted-level-0);\n",
              "  border: .5pt solid var(--sklearn-color-unfitted-level-3);\n",
              "}\n",
              "\n",
              ".sk-estimator-doc-link.fitted span {\n",
              "  /* fitted */\n",
              "  background: var(--sklearn-color-fitted-level-0);\n",
              "  border: var(--sklearn-color-fitted-level-3);\n",
              "}\n",
              "\n",
              ".sk-estimator-doc-link:hover span {\n",
              "  display: block;\n",
              "}\n",
              "\n",
              "/* \"?\"-specific style due to the `<a>` HTML tag */\n",
              "\n",
              "#sk-container-id-4 a.estimator_doc_link {\n",
              "  float: right;\n",
              "  font-size: 1rem;\n",
              "  line-height: 1em;\n",
              "  font-family: monospace;\n",
              "  background-color: var(--sklearn-color-background);\n",
              "  border-radius: 1rem;\n",
              "  height: 1rem;\n",
              "  width: 1rem;\n",
              "  text-decoration: none;\n",
              "  /* unfitted */\n",
              "  color: var(--sklearn-color-unfitted-level-1);\n",
              "  border: var(--sklearn-color-unfitted-level-1) 1pt solid;\n",
              "}\n",
              "\n",
              "#sk-container-id-4 a.estimator_doc_link.fitted {\n",
              "  /* fitted */\n",
              "  border: var(--sklearn-color-fitted-level-1) 1pt solid;\n",
              "  color: var(--sklearn-color-fitted-level-1);\n",
              "}\n",
              "\n",
              "/* On hover */\n",
              "#sk-container-id-4 a.estimator_doc_link:hover {\n",
              "  /* unfitted */\n",
              "  background-color: var(--sklearn-color-unfitted-level-3);\n",
              "  color: var(--sklearn-color-background);\n",
              "  text-decoration: none;\n",
              "}\n",
              "\n",
              "#sk-container-id-4 a.estimator_doc_link.fitted:hover {\n",
              "  /* fitted */\n",
              "  background-color: var(--sklearn-color-fitted-level-3);\n",
              "}\n",
              "</style><div id=\"sk-container-id-4\" class=\"sk-top-container\"><div class=\"sk-text-repr-fallback\"><pre>RandomForestClassifier(max_depth=15, random_state=9)</pre><b>In a Jupyter environment, please rerun this cell to show the HTML representation or trust the notebook. <br />On GitHub, the HTML representation is unable to render, please try loading this page with nbviewer.org.</b></div><div class=\"sk-container\" hidden><div class=\"sk-item\"><div class=\"sk-estimator fitted sk-toggleable\"><input class=\"sk-toggleable__control sk-hidden--visually\" id=\"sk-estimator-id-4\" type=\"checkbox\" checked><label for=\"sk-estimator-id-4\" class=\"sk-toggleable__label fitted sk-toggleable__label-arrow fitted\">&nbsp;&nbsp;RandomForestClassifier<a class=\"sk-estimator-doc-link fitted\" rel=\"noreferrer\" target=\"_blank\" href=\"https://scikit-learn.org/1.4/modules/generated/sklearn.ensemble.RandomForestClassifier.html\">?<span>Documentation for RandomForestClassifier</span></a><span class=\"sk-estimator-doc-link fitted\">i<span>Fitted</span></span></label><div class=\"sk-toggleable__content fitted\"><pre>RandomForestClassifier(max_depth=15, random_state=9)</pre></div> </div></div></div></div>"
            ]
          },
          "metadata": {},
          "execution_count": 201
        },
        {
          "output_type": "stream",
          "name": "stdout",
          "text": [
            "time: 203 ms (started: 2024-03-29 20:34:44 +00:00)\n"
          ]
        }
      ]
    },
    {
      "cell_type": "code",
      "source": [
        "# @title Model Evaluation\n",
        "# rf_100min_100max.score(X_test_100min_100max, y_test_100min_100max)"
      ],
      "metadata": {
        "id": "I54trK18opl4",
        "colab": {
          "base_uri": "https://localhost:8080/"
        },
        "outputId": "1699d89d-f861-410a-d1f6-73ebbd50d335"
      },
      "execution_count": null,
      "outputs": [
        {
          "output_type": "stream",
          "name": "stdout",
          "text": [
            "time: 381 µs (started: 2024-03-29 20:34:44 +00:00)\n"
          ]
        }
      ]
    },
    {
      "cell_type": "code",
      "source": [
        "rf_512min_512max.score(X_test_512min_512max, y_test_512min_512max)"
      ],
      "metadata": {
        "id": "klVh30WVL5PI",
        "colab": {
          "base_uri": "https://localhost:8080/"
        },
        "outputId": "f2ec17b0-9c53-45db-bc8f-5bf8c295b2e0"
      },
      "execution_count": null,
      "outputs": [
        {
          "output_type": "execute_result",
          "data": {
            "text/plain": [
              "0.9291338582677166"
            ]
          },
          "metadata": {},
          "execution_count": 203
        },
        {
          "output_type": "stream",
          "name": "stdout",
          "text": [
            "time: 23.3 ms (started: 2024-03-29 20:34:44 +00:00)\n"
          ]
        }
      ]
    },
    {
      "cell_type": "code",
      "source": [
        "print(y_test_512min_512max.value_counts())"
      ],
      "metadata": {
        "colab": {
          "base_uri": "https://localhost:8080/"
        },
        "id": "innnNhnR7GEl",
        "outputId": "5dfe63da-5ae3-4dc6-c083-e58d1d185667"
      },
      "execution_count": null,
      "outputs": [
        {
          "output_type": "stream",
          "name": "stdout",
          "text": [
            "speech     71\n",
            "written    56\n",
            "Name: type, dtype: int64\n",
            "time: 7.14 ms (started: 2024-03-29 20:38:58 +00:00)\n"
          ]
        }
      ]
    },
    {
      "cell_type": "code",
      "source": [
        "rf_predict = rf_512min_512max.predict(X_test_512min_512max)\n",
        "rf_cm = confusion_matrix(y_test_512min_512max, rf_predict)\n",
        "plt.figure(figsize=(5, 4))\n",
        "sns.heatmap(rf_cm, annot=True, fmt='d', cmap='crest', xticklabels=['Spoken', 'Written'], yticklabels=['Spoken', 'Written'])"
      ],
      "metadata": {
        "colab": {
          "base_uri": "https://localhost:8080/",
          "height": 408
        },
        "id": "lA39snS0501-",
        "outputId": "e3790e29-77ba-46b4-97a9-5b8b077b2e20"
      },
      "execution_count": null,
      "outputs": [
        {
          "output_type": "execute_result",
          "data": {
            "text/plain": [
              "<Axes: >"
            ]
          },
          "metadata": {},
          "execution_count": 235
        },
        {
          "output_type": "display_data",
          "data": {
            "text/plain": [
              "<Figure size 500x400 with 2 Axes>"
            ],
            "image/png": "[encoded data removed]"
          },
          "metadata": {}
        },
        {
          "output_type": "stream",
          "name": "stdout",
          "text": [
            "time: 320 ms (started: 2024-03-29 20:36:23 +00:00)\n"
          ]
        }
      ]
    },
    {
      "cell_type": "code",
      "source": [
        "# print(grid_search.best_params_)"
      ],
      "metadata": {
        "colab": {
          "base_uri": "https://localhost:8080/"
        },
        "id": "9-olieI58EkF",
        "outputId": "a86aff33-7d54-4e38-d630-e994dc274e11"
      },
      "execution_count": null,
      "outputs": [
        {
          "output_type": "stream",
          "name": "stdout",
          "text": [
            "time: 370 µs (started: 2024-03-29 20:34:45 +00:00)\n"
          ]
        }
      ]
    },
    {
      "cell_type": "code",
      "source": [
        "# rf_100min_512max.score(X_test_100min_512max, y_test_100min_512max)"
      ],
      "metadata": {
        "id": "sDctXAN2L6OI",
        "colab": {
          "base_uri": "https://localhost:8080/"
        },
        "outputId": "29261008-d7a7-4940-dcb4-8cf384d9e934"
      },
      "execution_count": null,
      "outputs": [
        {
          "output_type": "stream",
          "name": "stdout",
          "text": [
            "time: 358 µs (started: 2024-03-29 20:34:45 +00:00)\n"
          ]
        }
      ]
    },
    {
      "cell_type": "markdown",
      "source": [
        "# Feature Importance"
      ],
      "metadata": {
        "id": "t3jCISiXK6Lm"
      }
    },
    {
      "cell_type": "code",
      "source": [
        "# rf_100min_100max.feature_importances_"
      ],
      "metadata": {
        "id": "AG91eSc6rLYC",
        "colab": {
          "base_uri": "https://localhost:8080/"
        },
        "outputId": "0d7fca3e-9b70-4ddd-de68-36e51d7dc791"
      },
      "execution_count": null,
      "outputs": [
        {
          "output_type": "stream",
          "name": "stdout",
          "text": [
            "time: 374 µs (started: 2024-03-29 20:34:45 +00:00)\n"
          ]
        }
      ]
    },
    {
      "cell_type": "code",
      "source": [
        "rf_512min_512max.feature_importances_"
      ],
      "metadata": {
        "id": "NmA1VwzMMSb1",
        "colab": {
          "base_uri": "https://localhost:8080/"
        },
        "outputId": "21177269-2674-4ca5-d4d5-bdfa4d5ed8d2"
      },
      "execution_count": null,
      "outputs": [
        {
          "output_type": "execute_result",
          "data": {
            "text/plain": [
              "array([0.47926296, 0.52073704])"
            ]
          },
          "metadata": {},
          "execution_count": 208
        },
        {
          "output_type": "stream",
          "name": "stdout",
          "text": [
            "time: 15.2 ms (started: 2024-03-29 20:34:45 +00:00)\n"
          ]
        }
      ]
    },
    {
      "cell_type": "code",
      "source": [
        "# print(X_train_100min_100max.columns)"
      ],
      "metadata": {
        "id": "Fsu2LsOAriHA",
        "colab": {
          "base_uri": "https://localhost:8080/"
        },
        "outputId": "7507268e-6e32-41af-9cd7-dd45b540840f"
      },
      "execution_count": null,
      "outputs": [
        {
          "output_type": "stream",
          "name": "stdout",
          "text": [
            "time: 361 µs (started: 2024-03-29 20:34:45 +00:00)\n"
          ]
        }
      ]
    },
    {
      "cell_type": "code",
      "source": [
        "# feature_importance_100min_100max_df = pd.DataFrame({'metric': X_train_100min_100max.columns, 'feature_importance': rf_100min_100max.feature_importances_})\n",
        "# feature_importance_100min_100max_df = feature_importance_100min_100max_df.sort_values(by=['feature_importance'], ascending=False)\n",
        "\n",
        "feature_importance_512min_512max_df = pd.DataFrame({'metric': X_train_512min_512max.columns, 'feature_importance': rf_512min_512max.feature_importances_})\n",
        "feature_importance_512min_512max_df = feature_importance_512min_512max_df.sort_values(by=['feature_importance'], ascending=False)\n",
        "\n",
        "# feature_importance_100min_512max_df = pd.DataFrame({'metric': X_train_100min_512max.columns, 'feature_importance': rf_100min_512max.feature_importances_})\n",
        "# feature_importance_100min_512max_df = feature_importance_100min_512max_df.sort_values(by=['feature_importance'], ascending=False)"
      ],
      "metadata": {
        "id": "tdAtpOewVT7E",
        "colab": {
          "base_uri": "https://localhost:8080/"
        },
        "outputId": "ac3d9c56-3067-4396-970e-31d5adf767e2"
      },
      "execution_count": null,
      "outputs": [
        {
          "output_type": "stream",
          "name": "stdout",
          "text": [
            "time: 17.3 ms (started: 2024-03-29 20:34:45 +00:00)\n"
          ]
        }
      ]
    },
    {
      "cell_type": "code",
      "source": [
        "sns.set(rc={'figure.figsize':(5,6)})"
      ],
      "metadata": {
        "id": "CU_AepGO7x38",
        "colab": {
          "base_uri": "https://localhost:8080/"
        },
        "outputId": "1c485917-52ab-4109-bba6-853999b70927"
      },
      "execution_count": null,
      "outputs": [
        {
          "output_type": "stream",
          "name": "stdout",
          "text": [
            "time: 1.76 ms (started: 2024-03-29 20:34:45 +00:00)\n"
          ]
        }
      ]
    },
    {
      "cell_type": "code",
      "source": [
        "# sns.barplot(x=feature_importance_100min_100max_df['feature_importance'],\n",
        "#             y=feature_importance_100min_100max_df['metric']).set(ylabel=\"Feature\",\n",
        "#                                                                  xlabel=\"Feature Weight\", title=\"Feature Importance (100min 100max)\")"
      ],
      "metadata": {
        "id": "Itf_VigdMTBz",
        "colab": {
          "base_uri": "https://localhost:8080/"
        },
        "outputId": "39bea0d6-bbe4-41a9-a252-1570dc9f804a"
      },
      "execution_count": null,
      "outputs": [
        {
          "output_type": "stream",
          "name": "stdout",
          "text": [
            "time: 403 µs (started: 2024-03-29 20:34:45 +00:00)\n"
          ]
        }
      ]
    },
    {
      "cell_type": "code",
      "source": [
        "print(feature_importance_512min_512max_df)"
      ],
      "metadata": {
        "id": "368OB3YQTm5m",
        "colab": {
          "base_uri": "https://localhost:8080/"
        },
        "outputId": "6c9a1ee3-e99e-4b92-afa8-f789a4a4220a"
      },
      "execution_count": null,
      "outputs": [
        {
          "output_type": "stream",
          "name": "stdout",
          "text": [
            "         metric  feature_importance\n",
            "1  avg_word_len            0.520737\n",
            "0  avg_sent_len            0.479263\n",
            "time: 6.87 ms (started: 2024-03-29 20:34:45 +00:00)\n"
          ]
        }
      ]
    },
    {
      "cell_type": "code",
      "source": [
        "sns.barplot(x=feature_importance_512min_512max_df['feature_importance'],\n",
        "            y=feature_importance_512min_512max_df['metric'],\n",
        "            palette=\"viridis\").set(ylabel=\"Feature\",\n",
        "                  xlabel=\"Importance\")"
      ],
      "metadata": {
        "id": "6SgYd9VU9wpH",
        "colab": {
          "base_uri": "https://localhost:8080/",
          "height": 672
        },
        "outputId": "f43e76e8-d82a-4867-ea32-72c6133d7e1d"
      },
      "execution_count": null,
      "outputs": [
        {
          "output_type": "stream",
          "name": "stderr",
          "text": [
            "<ipython-input-214-4402daf25764>:1: FutureWarning: \n",
            "\n",
            "Passing `palette` without assigning `hue` is deprecated and will be removed in v0.14.0. Assign the `y` variable to `hue` and set `legend=False` for the same effect.\n",
            "\n",
            "  sns.barplot(x=feature_importance_512min_512max_df['feature_importance'],\n"
          ]
        },
        {
          "output_type": "execute_result",
          "data": {
            "text/plain": [
              "[Text(0, 0.5, 'Feature'), Text(0.5, 0, 'Importance')]"
            ]
          },
          "metadata": {},
          "execution_count": 214
        },
        {
          "output_type": "display_data",
          "data": {
            "text/plain": [
              "<Figure size 500x600 with 1 Axes>"
            ],
            "image/png": "[encoded data removed]"
          },
          "metadata": {}
        },
        {
          "output_type": "stream",
          "name": "stdout",
          "text": [
            "time: 354 ms (started: 2024-03-29 20:34:45 +00:00)\n"
          ]
        }
      ]
    },
    {
      "cell_type": "code",
      "source": [
        "# sns.barplot(x=feature_importance_100min_512max_df['feature_importance'],\n",
        "#             y=feature_importance_100min_512max_df['metric']).set(ylabel=\"Feature\",\n",
        "#                                                                  xlabel=\"Feature Weight\", title=\"Feature Importance (100min 512max)\")"
      ],
      "metadata": {
        "id": "U9tAJcLa987M",
        "colab": {
          "base_uri": "https://localhost:8080/"
        },
        "outputId": "35130378-375d-488a-d4fc-5502ce7b13c0"
      },
      "execution_count": null,
      "outputs": [
        {
          "output_type": "stream",
          "name": "stdout",
          "text": [
            "time: 381 µs (started: 2024-03-29 20:34:45 +00:00)\n"
          ]
        }
      ]
    },
    {
      "cell_type": "code",
      "source": [
        "# def hypothesis_test(group1, group2):\n",
        "#   # Perform t-test\n",
        "#   t_statistic, p_value = stats.ttest_ind(group1, group2)\n",
        "\n",
        "#   # Output the results\n",
        "#   print(\"T-statistic:\", t_statistic)\n",
        "#   print(\"P-value:\", p_value)\n",
        "\n",
        "#   # Interpret the results\n",
        "#   alpha = 0.05  # significance level\n",
        "#   if p_value < alpha:\n",
        "#       print(\"Reject the null hypothesis: The means are significantly different.\")\n",
        "#   else:\n",
        "#       print(\"Fail to reject the null hypothesis: There is not enough evidence to say that the means are different.\")"
      ],
      "metadata": {
        "id": "m7dWrZBuCqDY",
        "colab": {
          "base_uri": "https://localhost:8080/"
        },
        "outputId": "0db8c715-6b48-43b3-ca06-913609658f94"
      },
      "execution_count": null,
      "outputs": [
        {
          "output_type": "stream",
          "name": "stdout",
          "text": [
            "time: 409 µs (started: 2024-03-29 20:34:45 +00:00)\n"
          ]
        }
      ]
    },
    {
      "cell_type": "code",
      "source": [
        "# @title Bopnferroni correction hypothesis test\n",
        "def bonferroni_hypothesis_test(group1, group2):\n",
        "  bf_dict = {'metric': [], 't_statistic': [], 'p_value': [], 'result': []}\n",
        "  for column in group1.columns:\n",
        "    bf_dict['metric'].append(column)\n",
        "    # Perform t-test\n",
        "    t_statistic, p_value = stats.ttest_ind(group1[column], group2[column])\n",
        "    bf_dict['t_statistic'].append(t_statistic)\n",
        "    bf_dict['p_value'].append(p_value)\n",
        "\n",
        "  # Interpret the results\n",
        "  alpha = 0.05  # significance level\n",
        "  alpha_corrected = alpha / len(bf_dict['metric'])\n",
        "  for metric, t_statistic, p_value in zip(bf_dict['metric'], bf_dict['t_statistic'], bf_dict['p_value']):\n",
        "    print(\"metric: \", metric)\n",
        "    print(\"T-statistic\", t_statistic)\n",
        "    print(\"P-value:\", p_value)\n",
        "    if p_value < alpha_corrected:\n",
        "        print(\"Reject the null hypothesis: The means are significantly different after Bonferroni correction.\")\n",
        "        bf_dict['result'].append(\"yes\")\n",
        "    else:\n",
        "        bf_dict['result'].append(\"no\")\n",
        "        print(\"Fail to reject the null hypothesis: There is not enough evidence to say that the means are different after Bonferroni correction.\")\n",
        "\n",
        "    print()\n",
        "\n",
        "  return pd.DataFrame(bf_dict)"
      ],
      "metadata": {
        "id": "RxbZmdaeHUP7",
        "colab": {
          "base_uri": "https://localhost:8080/"
        },
        "outputId": "31dd3ba5-4535-425d-9cef-c143ac9a7d0d"
      },
      "execution_count": null,
      "outputs": [
        {
          "output_type": "stream",
          "name": "stdout",
          "text": [
            "time: 3.16 ms (started: 2024-03-29 20:34:45 +00:00)\n"
          ]
        }
      ]
    },
    {
      "cell_type": "code",
      "source": [
        "# @title Spoken and Written Splitting\n",
        "# speech_100min_100max = df_100min_100max[df_100min_100max['type'] == 'speech']\n",
        "# written_100min_100max = df_100min_100max[df_100min_100max['type'] == 'written']\n",
        "\n",
        "speech_512min_512max = df_512min_512max[df_512min_512max['type'] == 'speech']\n",
        "written_512min_512max = df_512min_512max[df_512min_512max['type'] == 'written']\n",
        "\n",
        "# speech_100min_512max = df_100min_512max[df_100min_512max['type'] == 'speech']\n",
        "# written_100min_512max = df_100min_512max[df_100min_512max['type'] == 'written']"
      ],
      "metadata": {
        "id": "mEG0-ZahFzK3",
        "colab": {
          "base_uri": "https://localhost:8080/"
        },
        "outputId": "b7244807-30ca-4498-b88e-9b49ccb78034"
      },
      "execution_count": null,
      "outputs": [
        {
          "output_type": "stream",
          "name": "stdout",
          "text": [
            "time: 13.5 ms (started: 2024-03-29 20:34:45 +00:00)\n"
          ]
        }
      ]
    },
    {
      "cell_type": "code",
      "source": [
        "# @title Removing text and type\n",
        "# speech_100min_100max = speech_100min_100max[speech_100min_100max.columns.difference(['text_chunk', 'type'])]\n",
        "# written_100min_100max = written_100min_100max[written_100min_100max.columns.difference(['text_chunk', 'type'])]\n",
        "\n",
        "speech_512min_512max = speech_512min_512max[speech_512min_512max.columns.difference(['text_chunk', 'type'])]\n",
        "written_512min_512max = written_512min_512max[written_512min_512max.columns.difference(['text_chunk', 'type'])]\n",
        "\n",
        "# speech_100min_512max = speech_100min_512max[speech_100min_512max.columns.difference(['text_chunk', 'type'])]\n",
        "# written_100min_512max = written_100min_512max[written_100min_512max.columns.difference(['text_chunk', 'type'])]"
      ],
      "metadata": {
        "id": "0DqW_IZjLoKM",
        "colab": {
          "base_uri": "https://localhost:8080/"
        },
        "outputId": "f7d91914-0670-4a76-f020-bfedd8d6cb8c"
      },
      "execution_count": null,
      "outputs": [
        {
          "output_type": "stream",
          "name": "stdout",
          "text": [
            "time: 13.5 ms (started: 2024-03-29 20:34:45 +00:00)\n"
          ]
        }
      ]
    },
    {
      "cell_type": "code",
      "source": [
        "# hypothesis_test_100min_100max = bonferroni_hypothesis_test(speech_100min_100max, written_100min_100max)"
      ],
      "metadata": {
        "id": "H7SOWRTHGLoQ",
        "colab": {
          "base_uri": "https://localhost:8080/"
        },
        "outputId": "bb35842e-6121-461b-f6eb-e5e8a8f54828"
      },
      "execution_count": null,
      "outputs": [
        {
          "output_type": "stream",
          "name": "stdout",
          "text": [
            "time: 3.45 ms (started: 2024-03-29 20:34:45 +00:00)\n"
          ]
        }
      ]
    },
    {
      "cell_type": "code",
      "source": [
        "# @title Perfrom Hypothesis Test\n",
        "hypothesis_test_512min_512max = bonferroni_hypothesis_test(speech_512min_512max, written_512min_512max)"
      ],
      "metadata": {
        "id": "T1Q3uk5olJ4x",
        "colab": {
          "base_uri": "https://localhost:8080/"
        },
        "outputId": "f1b1f957-205e-49de-fa03-0629f227de52"
      },
      "execution_count": null,
      "outputs": [
        {
          "output_type": "stream",
          "name": "stdout",
          "text": [
            "metric:  avg_sent_len\n",
            "T-statistic -4.250424672149385\n",
            "P-value: 2.158794490966251e-05\n",
            "Reject the null hypothesis: The means are significantly different after Bonferroni correction.\n",
            "\n",
            "metric:  avg_word_len\n",
            "T-statistic 3.7436755874365213\n",
            "P-value: 0.00018266699157493935\n",
            "Reject the null hypothesis: The means are significantly different after Bonferroni correction.\n",
            "\n",
            "time: 18.9 ms (started: 2024-03-29 20:34:45 +00:00)\n"
          ]
        }
      ]
    },
    {
      "cell_type": "code",
      "source": [
        "# hypothesis_test_100min_512max = bonferroni_hypothesis_test(speech_100min_512max, written_100min_512max)"
      ],
      "metadata": {
        "id": "23Z8xCXOlKzd",
        "colab": {
          "base_uri": "https://localhost:8080/"
        },
        "outputId": "88d910f1-03c3-4908-d83a-253ae4d21c03"
      },
      "execution_count": null,
      "outputs": [
        {
          "output_type": "stream",
          "name": "stdout",
          "text": [
            "time: 362 µs (started: 2024-03-29 20:34:45 +00:00)\n"
          ]
        }
      ]
    },
    {
      "cell_type": "code",
      "source": [
        "print('100min 100max Reject')\n",
        "# print(hypothesis_test_100min_100max[hypothesis_test_100min_100max['result'] == 'yes'][['metric', 'p_value']])"
      ],
      "metadata": {
        "id": "7pILw_6UsTM9",
        "colab": {
          "base_uri": "https://localhost:8080/"
        },
        "outputId": "a54e3c17-6b4a-4fd8-c455-ab4910c50992"
      },
      "execution_count": null,
      "outputs": [
        {
          "output_type": "stream",
          "name": "stdout",
          "text": [
            "100min 100max Reject\n",
            "time: 636 µs (started: 2024-03-29 20:34:45 +00:00)\n"
          ]
        }
      ]
    },
    {
      "cell_type": "code",
      "source": [
        "print('512min 512max Reject')\n",
        "print(hypothesis_test_512min_512max[hypothesis_test_512min_512max['result'] == 'yes'][['metric', 'p_value']])"
      ],
      "metadata": {
        "id": "qCe0I1xotUP-",
        "colab": {
          "base_uri": "https://localhost:8080/"
        },
        "outputId": "24fe23e3-566b-44d7-e116-e0567e1e42be"
      },
      "execution_count": null,
      "outputs": [
        {
          "output_type": "stream",
          "name": "stdout",
          "text": [
            "512min 512max Reject\n",
            "         metric   p_value\n",
            "0  avg_sent_len  0.000022\n",
            "1  avg_word_len  0.000183\n",
            "time: 28.5 ms (started: 2024-03-29 20:34:45 +00:00)\n"
          ]
        }
      ]
    },
    {
      "cell_type": "code",
      "source": [
        "print('100min 512max Reject')\n",
        "# print(hypothesis_test_100min_512max[hypothesis_test_100min_512max['result'] == 'yes'][['metric', 'p_value']])"
      ],
      "metadata": {
        "id": "KdF9oxgftUvY",
        "colab": {
          "base_uri": "https://localhost:8080/"
        },
        "outputId": "12652c73-2ddc-4fdd-9e59-19940e7e64fa"
      },
      "execution_count": null,
      "outputs": [
        {
          "output_type": "stream",
          "name": "stdout",
          "text": [
            "100min 512max Reject\n",
            "time: 4.25 ms (started: 2024-03-29 20:34:45 +00:00)\n"
          ]
        }
      ]
    },
    {
      "cell_type": "code",
      "source": [
        "corr_matrix_512min_512max = df_512min_512max[df_512min_512max.columns.difference(['text_chunk', 'type'])].corr()"
      ],
      "metadata": {
        "id": "Fy7XR6TXnjWc",
        "colab": {
          "base_uri": "https://localhost:8080/"
        },
        "outputId": "1b3d06ef-8a44-41a7-e523-fba661b19946"
      },
      "execution_count": null,
      "outputs": [
        {
          "output_type": "stream",
          "name": "stdout",
          "text": [
            "time: 7.76 ms (started: 2024-03-29 20:34:45 +00:00)\n"
          ]
        }
      ]
    },
    {
      "cell_type": "markdown",
      "source": [
        "# Correlation Visualization"
      ],
      "metadata": {
        "id": "MSmrDOLncX-R"
      }
    },
    {
      "cell_type": "code",
      "source": [
        "# print(corr_matrix_512min_512max['ari']['ari'])\n",
        "corr_features = {}\n",
        "for feature in corr_matrix_512min_512max:\n",
        "  corr_features[feature] = {}\n",
        "  for key in corr_matrix_512min_512max.columns:\n",
        "    if np.abs(corr_matrix_512min_512max[feature][key]) > 0.50:\n",
        "      corr_features[feature][key] = corr_matrix_512min_512max[feature][key]"
      ],
      "metadata": {
        "id": "C6FsBhiukNdU",
        "colab": {
          "base_uri": "https://localhost:8080/"
        },
        "outputId": "1c63edff-7368-4b2e-8bd1-5c9011a5aa38"
      },
      "execution_count": null,
      "outputs": [
        {
          "output_type": "stream",
          "name": "stdout",
          "text": [
            "time: 6.66 ms (started: 2024-03-29 20:34:45 +00:00)\n"
          ]
        }
      ]
    },
    {
      "cell_type": "code",
      "source": [
        "print(corr_features)\n",
        "for feature in corr_features:\n",
        "  print(feature)\n",
        "  for key in corr_features[feature]:\n",
        "    print('\\t', key)"
      ],
      "metadata": {
        "id": "ArAXfBGenaSc",
        "colab": {
          "base_uri": "https://localhost:8080/"
        },
        "outputId": "bee3ab12-dae8-4612-813c-9a475d4b61c8"
      },
      "execution_count": null,
      "outputs": [
        {
          "output_type": "stream",
          "name": "stdout",
          "text": [
            "{'avg_sent_len': {'avg_sent_len': 1.0}, 'avg_word_len': {'avg_word_len': 1.0}}\n",
            "avg_sent_len\n",
            "\t avg_sent_len\n",
            "avg_word_len\n",
            "\t avg_word_len\n",
            "time: 7.71 ms (started: 2024-03-29 20:34:45 +00:00)\n"
          ]
        }
      ]
    },
    {
      "cell_type": "code",
      "source": [
        "sns.set(rc={'figure.figsize':(22,8)})"
      ],
      "metadata": {
        "id": "PIcqVOP8pLqp",
        "colab": {
          "base_uri": "https://localhost:8080/"
        },
        "outputId": "abb0551b-99f2-4e4c-9062-8e50a63024ff"
      },
      "execution_count": null,
      "outputs": [
        {
          "output_type": "stream",
          "name": "stdout",
          "text": [
            "time: 4.56 ms (started: 2024-03-29 20:34:45 +00:00)\n"
          ]
        }
      ]
    },
    {
      "cell_type": "code",
      "source": [
        "heatmap = sns.heatmap(corr_matrix_512min_512max, annot=True, cmap='crest')\n",
        "\n",
        "heatmap.set_title(heatmap.get_title(), fontsize=12)\n",
        "heatmap.set_xlabel(heatmap.get_xlabel(), fontsize=20)\n",
        "heatmap.set_ylabel(heatmap.get_ylabel(), fontsize=20)"
      ],
      "metadata": {
        "id": "jyWYHjc-ovKB",
        "colab": {
          "base_uri": "https://localhost:8080/",
          "height": 723
        },
        "outputId": "713d54fd-8533-4366-ef35-d63c2f4e1b66"
      },
      "execution_count": null,
      "outputs": [
        {
          "output_type": "execute_result",
          "data": {
            "text/plain": [
              "Text(240.046875, 0.5, '')"
            ]
          },
          "metadata": {},
          "execution_count": 230
        },
        {
          "output_type": "display_data",
          "data": {
            "text/plain": [
              "<Figure size 2200x800 with 2 Axes>"
            ],
            "image/png": "[encoded data removed]"
          },
          "metadata": {}
        },
        {
          "output_type": "stream",
          "name": "stdout",
          "text": [
            "time: 697 ms (started: 2024-03-29 20:34:45 +00:00)\n"
          ]
        }
      ]
    }
  ]
}
